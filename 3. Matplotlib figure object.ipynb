{
 "cells": [
  {
   "cell_type": "markdown",
   "id": "f8ce1caf",
   "metadata": {},
   "source": [
    "# Matplotlib 图形对象"
   ]
  },
  {
   "cell_type": "markdown",
   "id": "09770fa5",
   "metadata": {},
   "source": [
    "通过前面的学习，我们知道matplotlib.pyplot模块能够快速地生成图像，但如果使用面向对象的编程思想，我们就可以更好地控制和自定义图像。\n",
    "\n",
    "在 Matplotlib 中，面向对象编程的核心思想是创建图形对象（figure object）。通过图形对象来调用其它的方法和属性，这样有助于我们更好地处理多个画布。在这个过程中，pyplot 负责生成图形对象，并通过该对象来添加一个或多个 axes 对象（即绘图区域）。\n",
    "\n",
    "Matplotlib 提供了matplotlib.figure图形类模块，它包含了创建图形对象的方法。通过调用 pyplot 模块中 figure() 函数来实例化 figure 对象。如下所示："
   ]
  },
  {
   "cell_type": "code",
   "execution_count": null,
   "id": "0cde87e9",
   "metadata": {},
   "outputs": [],
   "source": [
    "from matplotlib import pyplot as plt\n",
    "#创建图形对象\n",
    "fig = plt.figure()"
   ]
  },
  {
   "cell_type": "markdown",
   "id": "1bc8fbc6",
   "metadata": {},
   "source": [
    "该函数的参数值，如下所示：\n",
    "\n",
    "\n",
    "|  参数   |  说明  |\n",
    "| :-----: | :----: |\n",
    "| figsize  | 指定画布的大小，(宽度,高度)，单位为英寸。|\n",
    "| dpi  | 指定绘图对象的分辨率，即每英寸多少个像素，默认值为80。 |\n",
    "| facecolor  | \t背景颜色。 |\n",
    "| dgecolor  | \t边框颜色。 |\n",
    "| frameon  | \t是否显示边框。 |"
   ]
  },
  {
   "cell_type": "markdown",
   "id": "f07c7324",
   "metadata": {},
   "source": [
    "下面使用 figure() 创建一个空白画布："
   ]
  },
  {
   "cell_type": "code",
   "execution_count": null,
   "id": "62f428b5",
   "metadata": {},
   "outputs": [],
   "source": [
    "fig = plt.figure()"
   ]
  },
  {
   "cell_type": "markdown",
   "id": "771de24b",
   "metadata": {},
   "source": [
    "我们使用 add_axes() 将 axes 轴域添加到画布中。如下所示："
   ]
  },
  {
   "cell_type": "code",
   "execution_count": null,
   "id": "d4384f1a",
   "metadata": {},
   "outputs": [],
   "source": [
    "ax = fig.add_axes([0,0,1,1])"
   ]
  },
  {
   "cell_type": "markdown",
   "id": "5aebe10e",
   "metadata": {},
   "source": [
    "add_axes() 的参数值是一个序列，序列中的 4 个数字分别对应图形的左侧，底部，宽度，和高度，且每个数字必须介于 0 到 1 之间。\n",
    "不懂得看一看这篇文章：https://blog.csdn.net/weixin_45671036/article/details/112509057\n",
    "\n",
    "\n",
    "设置 x 和 y 轴的标签以及标题，如下所示："
   ]
  },
  {
   "cell_type": "code",
   "execution_count": null,
   "id": "d15ad76d",
   "metadata": {},
   "outputs": [],
   "source": [
    "ax.set_title(\"Sine wave\")\n",
    "ax.set_xlabel(\"Angle\")\n",
    "ax.set_ylabel(\"Sine\")"
   ]
  },
  {
   "cell_type": "markdown",
   "id": "66ff8db0",
   "metadata": {},
   "source": [
    "调用 axes 对象的 plot() 方法，对 x 、 y 数组进行绘图操作："
   ]
  },
  {
   "cell_type": "code",
   "execution_count": null,
   "id": "f6f50dd6",
   "metadata": {},
   "outputs": [],
   "source": [
    "ax.plot(x, y)"
   ]
  },
  {
   "cell_type": "markdown",
   "id": "7e809078",
   "metadata": {},
   "source": [
    "完整的代码如下所示："
   ]
  },
  {
   "cell_type": "code",
   "execution_count": null,
   "id": "e33cc25f",
   "metadata": {},
   "outputs": [],
   "source": [
    "from matplotlib import pyplot as plt\n",
    "import numpy as np\n",
    "import math\n",
    "x = np.arange(0, math.pi*2, 0.05)\n",
    "y = np.sin(x)\n",
    "fig = plt.figure()\n",
    "ax = fig.add_axes([0,0,1,1])\n",
    "ax.plot(x,y)\n",
    "ax.set_title(\"sine wave\")\n",
    "ax.set_xlabel('angle')\n",
    "ax.set_ylabel('sine')\n",
    "plt.show()"
   ]
  }
 ],
 "metadata": {
  "kernelspec": {
   "display_name": "Python 3 (ipykernel)",
   "language": "python",
   "name": "python3"
  },
  "language_info": {
   "codemirror_mode": {
    "name": "ipython",
    "version": 3
   },
   "file_extension": ".py",
   "mimetype": "text/x-python",
   "name": "python",
   "nbconvert_exporter": "python",
   "pygments_lexer": "ipython3",
   "version": "3.9.13"
  }
 },
 "nbformat": 4,
 "nbformat_minor": 5
}
